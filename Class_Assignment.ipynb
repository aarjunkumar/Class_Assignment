{
  "nbformat": 4,
  "nbformat_minor": 0,
  "metadata": {
    "colab": {
      "provenance": []
    },
    "kernelspec": {
      "name": "python3",
      "display_name": "Python 3"
    },
    "language_info": {
      "name": "python"
    }
  },
  "cells": [
    {
      "cell_type": "markdown",
      "source": [
        "Q1. What are the five key concepts of Object-Oriented Programming (OOP)\n",
        "\n",
        "Sol. The five key concepts of Object-Oriented Programming are:-\n",
        "\n",
        "\n",
        "1.   Classes and Objects:-\n",
        "\n",
        "  *   Class:- class is the blueprint for creating objects. It defines the attributes and methods that the objects created from the class will have\n",
        "  *   Objects:- An object is the instance of a class. It is an entity that has the attributes and behaviours defined by the class.\n",
        "\n",
        "\n",
        "2.   Inhritance:-\n",
        "\n",
        "   Inheritance is an important aspect of Object-Oriented Prpgramming. It provieds code reusability to the program because we can use an existing class to create a new class instead of creating it from scratch.\n",
        "\n",
        "   In Inheritance child class acquires the properties and can acess all the data members and functions of the parent class. A child class can also provide its specific implementation to the function of the parent class.\n",
        "\n",
        "3.  Abstraction:-\n",
        "\n",
        "    Abstraction hide the complex reality while exposing only the necessary parts. Absraction allows user to work with high-lec=vel concepts without neeeding to know the internal details and how the operations are performed.\n",
        "\n",
        "4.  Encapsulation:-\n",
        "\n",
        "    It decribea the idea of wrapping data and methods that work on data within one unit. This puts restrictions on accessing variables and method directly and can prevent the accidental modification of data. To prevent accidental change, an object's variable can only be accessed by an objeect's method. This is done with the help of access modifiers.\n",
        "\n",
        "5.  Polymorphism:-\n",
        "\n",
        "    The word polymorphism means many forms. Polymorphism means the same function name being used for different types. The key difference is the data types and number of arguments used in function. In python, polymorphism is achieved by method overriding and method overloading.\n",
        "\n",
        "    \n",
        "\n"
      ],
      "metadata": {
        "id": "qOSGXlCgLIJc"
      }
    },
    {
      "cell_type": "markdown",
      "source": [
        "\n",
        "\n",
        "---\n",
        "\n",
        "\n",
        "\n",
        "---\n",
        "\n"
      ],
      "metadata": {
        "id": "GaoRGGQmSZGx"
      }
    },
    {
      "cell_type": "markdown",
      "source": [
        "Q2. Write a Python class for a `Car` with attributes for `make`, `model`, and `year`. Include a method to display\n",
        "the car's information."
      ],
      "metadata": {
        "id": "GoiqtpYsSaXW"
      }
    },
    {
      "cell_type": "code",
      "execution_count": null,
      "metadata": {
        "colab": {
          "base_uri": "https://localhost:8080/"
        },
        "id": "qQGoLNAvLBjz",
        "outputId": "ed7bddff-12a8-4ef8-86e7-45929455ba41"
      },
      "outputs": [
        {
          "output_type": "stream",
          "name": "stdout",
          "text": [
            "Make : Toyota\n",
            "Model : Innova\n",
            "Year : 2021\n"
          ]
        }
      ],
      "source": [
        "class Car:\n",
        "  def __init__(self,make,model,year):\n",
        "    self.make=make\n",
        "    self.model=model\n",
        "    self.year=year\n",
        "\n",
        "  def display(self):\n",
        "    print(f\"Make : {self.make}\")\n",
        "    print(f\"Model : {self.model}\")\n",
        "    print(f\"Year : {self.year}\")\n",
        "\n",
        "c1=Car('Toyota','Innova',2021)\n",
        "c1.display()"
      ]
    },
    {
      "cell_type": "markdown",
      "source": [
        "\n",
        "\n",
        "---\n",
        "\n",
        "\n",
        "\n",
        "---\n",
        "\n"
      ],
      "metadata": {
        "id": "tMw_I55lTWoF"
      }
    },
    {
      "cell_type": "markdown",
      "source": [
        "Q3.  Explain the difference between instance methods and class methods. Provide an example of each.\n",
        "\n",
        "Sol. Diffrence between instance methods and class methods are-\n",
        "\n",
        "\n",
        "1.   Instance Methods:-\n",
        "\n",
        "  *   Instance method operates on an instance of the class and can modify the instance's attributes.\n",
        "  *   Instance methods are accessed using self.\n",
        "  *   They are used when you want to interact with the specific data of the particular instance of the class.\n",
        "\n",
        "  Example:-\n",
        "\n",
        "          class person:\n",
        "              def __init__(self,name):\n",
        "                  self.name=name\n",
        "              \n",
        "              def say(self):\n",
        "                  print(f\"Hello {self.name}\")\n",
        "\n",
        "\n",
        "2.   Class Methods:-\n",
        "\n",
        "  *   These method's donot require class instance and can access class attributes but they cannot access instance attributes.\n",
        "  *   Class methods are access through cls.\n",
        "  *   They are used when you need to manipulate class variable or when behaviour of the method relates to class as a whole,rather as an instance.\n",
        "\n",
        "  Example:-\n",
        "            \n",
        "            class Student:\n",
        "                  \n",
        "                  total=0\n",
        "                  def __init__(self,name):\n",
        "                      self.name=name\n",
        "                      Student.total+=1\n",
        "                  def get_totalstudents(cls):\n",
        "                      return cls.total\n",
        "\n",
        "\n"
      ],
      "metadata": {
        "id": "WYrO9CBWTYJa"
      }
    },
    {
      "cell_type": "markdown",
      "source": [
        "\n",
        "\n",
        "---\n",
        "\n",
        "\n",
        "\n",
        "---\n",
        "\n"
      ],
      "metadata": {
        "id": "vTxcKeRRXx1K"
      }
    },
    {
      "cell_type": "markdown",
      "source": [
        "Q4. How does Python implement method overloading? Give an example.\n",
        "\n",
        "Sol. Python doesnot support traditional method overloading,where multiple methods with the same name but different argument signatures can coexists in the same class. Instead in python method overloading is achieved by using varialble length arguments such as(*args and **kwargs), or by manually checking arguments type.\n",
        "\n",
        "Example:-\n",
        "\n",
        "          class calc:\n",
        "                def add(self,a,b=0,c=0):\n",
        "                    return a+b+c;\n",
        "\n",
        "          c=calc()\n",
        "          print(c.add(5))             # Output - 5\n",
        "          print(c.add(5,10))          # Output - 15\n",
        "          print(c.add(5,10,15))       # Output - 30"
      ],
      "metadata": {
        "id": "BLJ91WYjXz6M"
      }
    },
    {
      "cell_type": "markdown",
      "source": [
        "\n",
        "\n",
        "---\n",
        "\n",
        "\n",
        "\n",
        "---\n",
        "\n"
      ],
      "metadata": {
        "id": "3YOF-d8ebdwV"
      }
    },
    {
      "cell_type": "markdown",
      "source": [
        "Q5. What are the three types of access modifiers in Python? How are they denoted?\n",
        "\n",
        "Sol. Three types of access modifiers are:-\n",
        "\n",
        "\n",
        "1.   Public:-\n",
        "\n",
        "  *   Public members can be accessed from inside and outside of the class.\n",
        "  *   It is denoted by no underscore(e.g., attribute).\n",
        "\n",
        "\n",
        "2.   Private:-\n",
        "\n",
        "  *   Private members are not accessible or modified outside the class.\n",
        "  *   It is denoted by double underscore(e.g., __attribute).\n",
        "\n",
        "3.   Protected:-\n",
        "\n",
        "  *   Protected member are accessed only within the class and its subclass.Python uses this as a soft indicator of intended protection.\n",
        "  *   IT is denoted by single underscore(e.g., _attribute).\n",
        "\n",
        "\n",
        "\n",
        "Example:-\n",
        "\n",
        "          class student:\n",
        "              def __init__(self,name,age,roll):\n",
        "                  self.name=name\n",
        "                  self._age=age\n",
        "                  self.__roll=roll\n",
        "\n",
        "              def print_age(self):\n",
        "                  print(self._age)\n",
        "\n",
        "              def print_roll(self):\n",
        "                  print(self.__roll)\n",
        "\n",
        "\n",
        "          s=student('Arjun',25,31)\n",
        "          print(s.name)       # Output - Arjun\n",
        "          s.print_age()       # Output - 25\n",
        "          s.print_roll()      # Output - 31\n"
      ],
      "metadata": {
        "id": "7P4ZJBzrdQQ8"
      }
    },
    {
      "cell_type": "markdown",
      "source": [
        "\n",
        "\n",
        "---\n",
        "\n",
        "\n",
        "\n",
        "---\n",
        "\n"
      ],
      "metadata": {
        "id": "ZzqHicSi5BaX"
      }
    },
    {
      "cell_type": "markdown",
      "source": [
        "Q6.  Describe the five types of inheritance in Python. Provide a simple example of multiple inheritance.\n",
        "\n",
        "Sol. Diffrent types of inheritance are:-\n",
        "\n",
        "1. Single Inheritance:- In this a class inherits from only one parent class\n",
        "\n",
        "  Example:-\n",
        "\n",
        "            class A:\n",
        "                def method(self):\n",
        "                    print(\"A\")\n",
        "            \n",
        "            class B:\n",
        "                def method_B(self):\n",
        "                    print(\"B\")\n",
        "\n",
        "2. Multiple Inheritance:- In this a class inherits from more than one parent class.\n",
        "\n",
        "  Example:-\n",
        "\n",
        "            class A:\n",
        "                def method_A(self):\n",
        "                    print(\"A\")\n",
        "\n",
        "            class B:\n",
        "                def method_B(self):\n",
        "                    print(\"B\")\n",
        "\n",
        "            class C(A,B):\n",
        "                def method_C(self):\n",
        "                    print(\"C\")\n",
        "\n",
        "\n",
        "3. Multilevel Inheritance:- In this a class inherits from another class,and the third class inherits from the second class,forming chain of inheritance.\n",
        "\n",
        "  Example:-\n",
        "\n",
        "            class A:\n",
        "                def method(slef):\n",
        "                    print(\"A\")\n",
        "            \n",
        "            class B(A):\n",
        "                def method_B(self):\n",
        "                    print(\"B\")\n",
        "\n",
        "            class C(B):\n",
        "                def method_C(self):\n",
        "                    print(\"C\")\n",
        "\n",
        "\n",
        "4. Hierarchichal Inheriance:- In this multiple class inherits from the same parent class.\n",
        "\n",
        "  Example:-\n",
        "\n",
        "            class A:\n",
        "                def method(self):\n",
        "                    print(\"A\")\n",
        "            \n",
        "            class B(A):\n",
        "                def method_B(self):\n",
        "                    print(\"B\")\n",
        "            \n",
        "            class C(A):\n",
        "                def method_C(self):\n",
        "                    print(\"C\")\n",
        "\n",
        "\n",
        "5. Hybrid Inheritance:- This is a combination of more than one type of inheritance.\n",
        "\n",
        "  Example:-\n",
        "\n",
        "            class A:\n",
        "                def method(self):\n",
        "                    print(\"A\")\n",
        "\n",
        "            class B(A):\n",
        "                def method_B(self):\n",
        "                    print(\"B\")\n",
        "\n",
        "            class C(A):\n",
        "                def method_C(self):\n",
        "                    print(\"C\")\n",
        "\n",
        "            class D(B,C):\n",
        "                def method_D(self):\n",
        "                    print(\"D\")"
      ],
      "metadata": {
        "id": "1bVvVb4x5Cbd"
      }
    },
    {
      "cell_type": "markdown",
      "source": [
        "\n",
        "\n",
        "---\n",
        "\n",
        "\n",
        "\n",
        "---\n",
        "\n"
      ],
      "metadata": {
        "id": "jRb9AQZ93ewv"
      }
    },
    {
      "cell_type": "markdown",
      "source": [
        "Q7.  What is the Method Resolution Order (MRO) in Python? How can you retrieve it programmatically?\n",
        "\n",
        "Sol. Python resolves the Diamond Problem using Method Resolution Order(MRO) which defines the order in which classes are searched for a method or attribute.Pyhton uses an algorithm called C3 Linerization to resolve this problem.\n",
        "\n",
        "Rules of MRO are:-\n",
        "\n",
        "1. Python lookes for the method in the current class then in the base class int he order they are listed.\n",
        "\n",
        "2. If a class inherits from multiple classes,Python ssearches for the left most class first.\n",
        "\n",
        "3. Python ensures that the common ancestor class is only visited once."
      ],
      "metadata": {
        "id": "QgO-7O6oj4Zm"
      }
    },
    {
      "cell_type": "markdown",
      "source": [
        "\n",
        "\n",
        "---\n",
        "\n",
        "\n",
        "\n",
        "---\n",
        "\n"
      ],
      "metadata": {
        "id": "pTOwrLvtiA1L"
      }
    },
    {
      "cell_type": "markdown",
      "source": [
        "Q8. Create an abstract base class `Shape` with an abstract method `area()`. Then create two subclasses\n",
        "`Circle` and `Rectangle` that implement the `area()` method."
      ],
      "metadata": {
        "id": "4bggh8bNbfEZ"
      }
    },
    {
      "cell_type": "code",
      "source": [
        "import abc\n",
        "\n",
        "class Shape:\n",
        "\n",
        "    @abc.abstractmethod\n",
        "    def area(self):\n",
        "        pass\n",
        "\n",
        "class Circle(Shape):\n",
        "    def __init__(self,radius):\n",
        "        self.radius=radius\n",
        "\n",
        "    def area(self):\n",
        "        r=self.radius\n",
        "        return 3.14*r*r\n",
        "\n",
        "class Rectangle(Shape):\n",
        "    def __init__(self,length,breadth):\n",
        "        self.length=length\n",
        "        self.breadth=breadth\n",
        "\n",
        "    def area(self):\n",
        "        l=self.length\n",
        "        b=self.breadth\n",
        "        return l*b\n",
        "\n",
        "\n",
        "c=Circle(5)\n",
        "print(c.area())\n",
        "\n",
        "r=Rectangle(4,5)\n",
        "print(r.area())"
      ],
      "metadata": {
        "colab": {
          "base_uri": "https://localhost:8080/"
        },
        "id": "CcmxaFbHbrMC",
        "outputId": "f8dc52e2-e5ca-4eda-aa12-4cc11152288c"
      },
      "execution_count": null,
      "outputs": [
        {
          "output_type": "stream",
          "name": "stdout",
          "text": [
            "78.5\n",
            "20\n"
          ]
        }
      ]
    },
    {
      "cell_type": "markdown",
      "source": [
        "\n",
        "\n",
        "---\n",
        "\n",
        "\n",
        "\n",
        "---\n",
        "\n"
      ],
      "metadata": {
        "id": "EdTe3Zmmi5is"
      }
    },
    {
      "cell_type": "markdown",
      "source": [
        "Q9. Demonstrate polymorphism by creating a function that can work with different shape objects to calculate\n",
        "and print their areas."
      ],
      "metadata": {
        "id": "NahK6p_2i3cY"
      }
    },
    {
      "cell_type": "code",
      "source": [
        "class Area:\n",
        "  def area(self,a,b=0):\n",
        "    if b==0:\n",
        "      return a*a\n",
        "    else:\n",
        "      return a*b\n",
        "\n",
        "a=Area()\n",
        "print(a.area(5))\n",
        "print(a.area(5,6))"
      ],
      "metadata": {
        "colab": {
          "base_uri": "https://localhost:8080/"
        },
        "id": "afgWdaiEi8El",
        "outputId": "bd9dee26-2f88-4c91-8d2c-480c538a0152"
      },
      "execution_count": null,
      "outputs": [
        {
          "output_type": "stream",
          "name": "stdout",
          "text": [
            "25\n",
            "30\n"
          ]
        }
      ]
    },
    {
      "cell_type": "markdown",
      "source": [
        "\n",
        "\n",
        "---\n",
        "\n",
        "\n",
        "\n",
        "---\n",
        "\n"
      ],
      "metadata": {
        "id": "mKml3Beoi6_5"
      }
    },
    {
      "cell_type": "markdown",
      "source": [
        "Q10. Implement encapsulation in a `BankAccount` class with private attributes for `balance` and\n",
        "`account_number`. Include methods for deposit, withdrawal, and balance inquiry."
      ],
      "metadata": {
        "id": "AnanW-j4cSp2"
      }
    },
    {
      "cell_type": "code",
      "source": [
        "class Bank:\n",
        "    def __init__(self, balance, acc):\n",
        "        self.__balance = balance\n",
        "        self.__account = acc\n",
        "\n",
        "    def deposit(self,dep):\n",
        "        self.__balance = self.__balance + dep\n",
        "\n",
        "    def withdrawl(self,amount):\n",
        "        if self.__balance >= amount:\n",
        "            self.__balance = self.__balance - amount\n",
        "            return True\n",
        "        else:\n",
        "            return False\n",
        "\n",
        "    def balance_inquiry(self):\n",
        "        return self.__balance\n",
        "\n",
        "acc1 = Bank(10000,20)\n",
        "acc1.deposit(5000)\n",
        "\n",
        "acc1.withdrawl(7000)\n",
        "acc1.balance_inquiry()"
      ],
      "metadata": {
        "colab": {
          "base_uri": "https://localhost:8080/"
        },
        "id": "G2GyWSI4ceEf",
        "outputId": "6116801d-5288-4da3-8834-13298738b1f2"
      },
      "execution_count": null,
      "outputs": [
        {
          "output_type": "execute_result",
          "data": {
            "text/plain": [
              "8000"
            ]
          },
          "metadata": {},
          "execution_count": 5
        }
      ]
    },
    {
      "cell_type": "markdown",
      "source": [
        "\n",
        "\n",
        "---\n",
        "\n",
        "---\n",
        "\n",
        "\n",
        "\n"
      ],
      "metadata": {
        "id": "RJa18F5Hmv8O"
      }
    },
    {
      "cell_type": "markdown",
      "source": [
        "Q11. Write a class that overrides the `__str__` and `__add__` magic methods. What will these methods allow\n",
        "you to do?"
      ],
      "metadata": {
        "id": "ktBxzW3Mm91h"
      }
    },
    {
      "cell_type": "code",
      "source": [
        "class Points:\n",
        "    def __init__(self, x, y):\n",
        "        self.x = x\n",
        "        self.y = y\n",
        "\n",
        "    def __str__(self):\n",
        "        return f\"Points({self.x}, {self.y})\"\n",
        "\n",
        "    def __add__(self, other):\n",
        "        if isinstance(other, Points):\n",
        "            return Points(self.x + other.x, self.y + other.y)\n",
        "        return NotImplemented\n",
        "\n",
        "v1 = Points(2, 3)\n",
        "v2 = Points(4, 5)\n",
        "\n",
        "# Using __str__\n",
        "print(v1)\n",
        "print(v2)\n",
        "\n",
        "# Using __add__\n",
        "v3 = v1 + v2\n",
        "print(v3)\n"
      ],
      "metadata": {
        "id": "gh7KJLrqnAB7",
        "colab": {
          "base_uri": "https://localhost:8080/"
        },
        "outputId": "d25f157d-edfc-46aa-9c29-3652ec739788"
      },
      "execution_count": 3,
      "outputs": [
        {
          "output_type": "stream",
          "name": "stdout",
          "text": [
            "Points(2, 3)\n",
            "Points(4, 5)\n",
            "Points(6, 8)\n"
          ]
        }
      ]
    },
    {
      "cell_type": "markdown",
      "source": [
        "\n",
        "\n",
        "---\n",
        "\n",
        "\n",
        "\n",
        "---\n",
        "\n"
      ],
      "metadata": {
        "id": "QIaxqN4Hzutc"
      }
    },
    {
      "cell_type": "markdown",
      "source": [
        "Q12. Create a decorator that measures and prints the execution time of a function."
      ],
      "metadata": {
        "id": "2rL2y4C4zv3K"
      }
    },
    {
      "cell_type": "code",
      "source": [
        "import time\n",
        "def timer_decorator(func):\n",
        "    def timer():\n",
        "        start = time.time()\n",
        "        func()\n",
        "        end = time.time()\n",
        "        print(\"The time for executing the code\", end-start)\n",
        "    return timer\n",
        "\n",
        "@timer_decorator\n",
        "def func_test():\n",
        "    print(1100000*1000)\n",
        "\n",
        "func_test()"
      ],
      "metadata": {
        "colab": {
          "base_uri": "https://localhost:8080/"
        },
        "id": "7axMZ4-2z4hy",
        "outputId": "304c60d9-f7a6-4783-8f39-e111c28ce638"
      },
      "execution_count": 4,
      "outputs": [
        {
          "output_type": "stream",
          "name": "stdout",
          "text": [
            "1100000000\n",
            "The time for executing the code 0.0019519329071044922\n"
          ]
        }
      ]
    },
    {
      "cell_type": "markdown",
      "source": [
        "\n",
        "\n",
        "---\n",
        "\n",
        "\n",
        "\n",
        "---\n",
        "\n"
      ],
      "metadata": {
        "id": "aSC8GP3b1TzA"
      }
    },
    {
      "cell_type": "markdown",
      "source": [
        "Q13.  Explain the concept of the Diamond Problem in multiple inheritance. How does Python resolve it?\n",
        "\n",
        "Sol. The diamond problem is a specific issue that can arise in programming languages that support multiple\n",
        "inheritance, including Python. It occurs when a class inherits from two or more classes that have a common\n",
        "base class. This can lead to ambiguity in method resolution, causing conflicts and making it unclear which\n",
        "version of a method should be used.\n",
        "\n",
        " To mitigate the diamond problem, Python uses a method resolution order (MRO) algorithm called C3\n",
        "linearization. The MRO determines the order in which the base classes are searched for a method or attribute. It\n",
        "follows a specific set of rules to ensure a consistent and unambiguous order.\n",
        "\n",
        "Example:-\n",
        "\n",
        "          class A:\n",
        "              def method(Self):\n",
        "                  print(\"Method in A\")\n",
        "          \n",
        "          class B(A):\n",
        "              def method(self):\n",
        "                  print(\"Method in B\")\n",
        "          \n",
        "          Class C(A):\n",
        "              def method(self):\n",
        "                  print(\"Method in C\")\n",
        "\n",
        "          Class D(B,C):\n",
        "              pass\n",
        "\n",
        "          \n",
        "          d=D()\n",
        "          D.method()  # Output - Method in B"
      ],
      "metadata": {
        "id": "ulxfRv7g1VPs"
      }
    },
    {
      "cell_type": "markdown",
      "source": [
        "\n",
        "\n",
        "---\n",
        "\n",
        "\n",
        "\n",
        "---\n",
        "\n"
      ],
      "metadata": {
        "id": "1Gt4D-b41cFk"
      }
    },
    {
      "cell_type": "markdown",
      "source": [
        "Q14. Write a class method that keeps track of the number of instances created from a class."
      ],
      "metadata": {
        "id": "27Ptkzbnk0Hu"
      }
    },
    {
      "cell_type": "code",
      "source": [
        "class student:\n",
        "    total=0\n",
        "    def __init__(self,name):\n",
        "        self.name=name\n",
        "        student.total+=1\n",
        "\n",
        "    def get_totalsyudents(cls):\n",
        "        return cls.total\n",
        "\n",
        "s1=student(\"Arjun\")\n",
        "s2=student(\"Ajay\")\n",
        "s3=student(\"karran\")\n",
        "\n",
        "print(student.total)"
      ],
      "metadata": {
        "colab": {
          "base_uri": "https://localhost:8080/"
        },
        "id": "mvbbP-zhk2Lg",
        "outputId": "a567dd87-5466-41d3-ef89-217b2dc391e2"
      },
      "execution_count": null,
      "outputs": [
        {
          "output_type": "stream",
          "name": "stdout",
          "text": [
            "3\n"
          ]
        }
      ]
    },
    {
      "cell_type": "markdown",
      "source": [
        "\n",
        "\n",
        "---\n",
        "\n",
        "\n",
        "\n",
        "---\n",
        "\n"
      ],
      "metadata": {
        "id": "Pmchx-KwltNB"
      }
    },
    {
      "cell_type": "markdown",
      "source": [
        "Q15. Implement a static method in a class that checks if a given year is a leap year."
      ],
      "metadata": {
        "id": "DoHgqcYUlu2V"
      }
    },
    {
      "cell_type": "code",
      "source": [
        "class leap:\n",
        "  def isleap(year):\n",
        "    if (year % 4==0 and year % 100 !=0) or (year % 400 ==0):\n",
        "      return True\n",
        "    else:\n",
        "      return False\n",
        "\n",
        "print(leap.isleap(2024))\n",
        "print(leap.isleap(2023))\n",
        "print(leap.isleap(1640))\n",
        "print(leap.isleap(2022))"
      ],
      "metadata": {
        "colab": {
          "base_uri": "https://localhost:8080/"
        },
        "id": "M6eqmT58lr4j",
        "outputId": "c24d2a5e-52d8-4b5e-b60c-7838d74d27de"
      },
      "execution_count": null,
      "outputs": [
        {
          "output_type": "stream",
          "name": "stdout",
          "text": [
            "True\n",
            "False\n",
            "True\n",
            "False\n"
          ]
        }
      ]
    }
  ]
}